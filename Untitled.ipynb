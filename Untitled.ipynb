{
 "cells": [
  {
   "cell_type": "markdown",
   "metadata": {},
   "source": [
    "# APS 3 - TRANSMECSOL"
   ]
  },
  {
   "cell_type": "code",
   "execution_count": 1,
   "metadata": {},
   "outputs": [],
   "source": [
    "#imports\n",
    "from funcoesTermosol import *\n",
    "import numpy as np\n",
    "import math"
   ]
  },
  {
   "cell_type": "code",
   "execution_count": 2,
   "metadata": {},
   "outputs": [],
   "source": [
    "#importando os dados\n",
    "[nn,N,nm,Inc,nc,F,nr,R] = importa('entrada.xlsx')"
   ]
  },
  {
   "cell_type": "code",
   "execution_count": 3,
   "metadata": {},
   "outputs": [],
   "source": [
    "#Modulo de elasticidade\n",
    "E = Inc[0,2]\n",
    "\n",
    "#Area secao transversal\n",
    "A = Inc[0,3]\n"
   ]
  },
  {
   "cell_type": "code",
   "execution_count": 5,
   "metadata": {},
   "outputs": [],
   "source": [
    "def conectividade(Inc):\n",
    "    '''\n",
    "    Recebe excel incidencia e retorna matriz de conectividade \n",
    "    normal e transposta\n",
    "    '''\n",
    "    no_origem = Inc[:,0]\n",
    "    no_destino = Inc[:,1]\n",
    "    C = np.zeros((nm,nn))\n",
    "    for coluna in range(len(no_origem)): \n",
    "        if no_origem[coluna] < no_destino[coluna]:\n",
    "            C[int(no_origem[coluna] -1),coluna] = -1 \n",
    "            C[int(no_destino[coluna] -1),coluna] = 1\n",
    "        else:\n",
    "            C[int(no_origem[coluna] -1),coluna] = 1 \n",
    "            C[int(no_destino[coluna] -1),coluna] = -1\n",
    "    return (C)"
   ]
  },
  {
   "cell_type": "code",
   "execution_count": 6,
   "metadata": {},
   "outputs": [],
   "source": [
    "C = conectividade(Inc)"
   ]
  },
  {
   "cell_type": "code",
   "execution_count": 95,
   "metadata": {},
   "outputs": [],
   "source": [
    "def membros(N,C):\n",
    "    '''\n",
    "    membros = N*C\n",
    "    '''\n",
    "    return N@C\n",
    "\n",
    "def calcula_l(M):\n",
    "    '''\n",
    "    Calcula o comprimento de cada elemento a partir do\n",
    "    modulo de N*C\n",
    "    '''\n",
    "    l = np.zeros((np.shape(N)[1], 1))\n",
    "    for coluna in range(np.shape(M)[1]):\n",
    "        l[coluna] = np.linalg.norm(M[:,coluna])\n",
    "    return l\n",
    "\n",
    "def calcula_trig(N,M):\n",
    "    '''\n",
    "    Recebe a matriz dos nos e dos membros e retorna o angulo entre os elementos\n",
    "    '''\n",
    "    x0 = N[0,:]\n",
    "    y0 = N[1,:]\n",
    "    l = calcula_l(M)\n",
    "    t = np.zeros((np.shape(N)[1], 4))\n",
    "    for i in range((np.shape(N)[1])):\n",
    "        xi = x0[i]\n",
    "        yi = y0[i]\n",
    "        xf = M[0,i]+xi\n",
    "        yf = M[1,i]+yi\n",
    "        #calcula cos\n",
    "        t[i,2] = (xf-xi)/l[i]\n",
    "        t[i,0] = -t[i,2]\n",
    "        #calcula sen\n",
    "        t[i,3] = (yf-yi)/l[i]\n",
    "        t[i,1] = -t[i,3]\n",
    "    return t"
   ]
  },
  {
   "cell_type": "code",
   "execution_count": 93,
   "metadata": {
    "scrolled": false
   },
   "outputs": [],
   "source": [
    "M = membros(N,C)\n",
    "t = calcula_trig(N,M)\n",
    "l = calcula_l(M)"
   ]
  },
  {
   "cell_type": "code",
   "execution_count": null,
   "metadata": {},
   "outputs": [],
   "source": [
    "def calcula_Ke(C, M, E, A,nn):\n",
    "    '''\n",
    "    Funcao que calcula cada K de cada elemento e K global\n",
    "    '''\n",
    "    l = calcula_l(M)\n",
    "    Se = np.zeros((2, 2))\n",
    "    Kg = np.zeros((nn*2,nn*2))\n",
    "    lista_ke = []\n",
    "    linhas = np.shape(M)[0]\n",
    "    colunas = np.shape(M)[1] #igual a n de elementos\n",
    "    for coluna in range(colunas):\n",
    "        me = (M[:,coluna]).reshape(linhas,1)\n",
    "        me_t = np.transpose(me)\n",
    "        Se = ((E*A)/l[coluna])*((me@me_t)/(np.linalg.norm(me))**2)\n",
    "        ce = C[:,coluna].reshape(np.shape(C)[1],1)\n",
    "        ce_t = np.transpose(ce)\n",
    "        Ke = np.kron((ce@ce_t),Se)\n",
    "        lista_ke.append(Ke) \n",
    "        Kg += Ke\n",
    "    return Kg, Ke"
   ]
  },
  {
   "cell_type": "code",
   "execution_count": 23,
   "metadata": {},
   "outputs": [],
   "source": [
    "Kg,Ke = calcula_Ke(C,M,E,A,nn)"
   ]
  },
  {
   "cell_type": "code",
   "execution_count": 21,
   "metadata": {},
   "outputs": [],
   "source": [
    "def aplica_cc(Kg,R):\n",
    "    if np.shape(Kg)[1] == 1:\n",
    "        return np.delete(Kg, list(R[:,0].astype(int)),axis=0)\n",
    "    '''\n",
    "    elimino os graus de liberdade que estao com restricao \n",
    "    ao aplicar as condicoes de contorno\n",
    "    '''\n",
    "    return np.delete(np.delete(Kg, list(R[:,0].astype(int)),axis=0), list(R[:,0].astype(int)),axis=1)\n"
   ]
  },
  {
   "cell_type": "code",
   "execution_count": 24,
   "metadata": {},
   "outputs": [],
   "source": [
    "Kg_cc = aplica_cc(Kg,R)\n",
    "F_cc = aplica_cc(F,R)"
   ]
  },
  {
   "cell_type": "code",
   "execution_count": 25,
   "metadata": {},
   "outputs": [],
   "source": [
    "def calcula_jacobi(a,b,tol):\n",
    "    '''\n",
    "    Recebe 2 vetores [A]{x}=[B] \n",
    "    Repetira ate atingir a convergencia desejada.\n",
    "    '''\n",
    "    linhas = np.shape(a)[0]\n",
    "    colunas = np.shape(a)[1]\n",
    "    x = np.zeros((linhas,1))\n",
    "    xnew = np.zeros((linhas,1))\n",
    "    max_i = 100\n",
    "    for i in range(max_i):\n",
    "        for linha in range(linhas):\n",
    "            for coluna in range(colunas):\n",
    "                if linha!=coluna:\n",
    "                    xnew[linha] +=a[linha][coluna]*x[coluna]\n",
    "            xnew[linha] = (b[linha]-xnew[linha])/a[linha][linha] \n",
    "        #print(f'x={xnew}')\n",
    "        #print()\n",
    "\n",
    "        # Erro\n",
    "        err = max(abs((xnew-x)/xnew))\n",
    "\n",
    "        # Atualizar\n",
    "        x = np.copy(xnew)\n",
    "        xnew.fill(0)\n",
    "        if err<=tol:\n",
    "            print(f'CONVERGIU EM i={i} com err = {err}')\n",
    "            break\n",
    "    return x\n"
   ]
  },
  {
   "cell_type": "code",
   "execution_count": 26,
   "metadata": {},
   "outputs": [
    {
     "name": "stdout",
     "output_type": "stream",
     "text": [
      "CONVERGIU EM i=59 com err = [8.92909874e-06]\n"
     ]
    },
    {
     "name": "stderr",
     "output_type": "stream",
     "text": [
      "<ipython-input-25-a7e28a21e7f0>:21: RuntimeWarning: invalid value encountered in true_divide\n",
      "  err = max(abs((xnew-x)/xnew))\n"
     ]
    }
   ],
   "source": [
    "u = calcula_jacobi(Kg_cc, F_cc, 1e-5)\n"
   ]
  },
  {
   "cell_type": "code",
   "execution_count": 32,
   "metadata": {},
   "outputs": [],
   "source": [
    "def calcula_u_comp(u,R):\n",
    "    u_comp = np.zeros((len(R)+len(u),1))\n",
    "    k = 0\n",
    "    r = list(R[:,0].astype(int))\n",
    "    for i in range(len(u_comp)):\n",
    "        if i not in r:\n",
    "            u_comp[i] = u[k]\n",
    "            k+=1\n",
    "    return u_comp"
   ]
  },
  {
   "cell_type": "code",
   "execution_count": 33,
   "metadata": {},
   "outputs": [],
   "source": [
    "u_comp = calcula_u_comp(u,R)"
   ]
  },
  {
   "cell_type": "code",
   "execution_count": 34,
   "metadata": {},
   "outputs": [
    {
     "data": {
      "text/plain": [
       "array([[ 0.00000000e+00],\n",
       "       [-9.52384854e-07],\n",
       "       [ 0.00000000e+00],\n",
       "       [ 0.00000000e+00],\n",
       "       [ 1.60714601e-06],\n",
       "       [-4.01784975e-06]])"
      ]
     },
     "execution_count": 34,
     "metadata": {},
     "output_type": "execute_result"
    }
   ],
   "source": [
    "u_comp"
   ]
  },
  {
   "cell_type": "code",
   "execution_count": 35,
   "metadata": {},
   "outputs": [],
   "source": [
    "t = calcula_trig(N,M)"
   ]
  },
  {
   "cell_type": "code",
   "execution_count": 44,
   "metadata": {},
   "outputs": [
    {
     "data": {
      "text/plain": [
       "(array([[0.4],\n",
       "        [0.3],\n",
       "        [0.5]]),\n",
       " array([[-0. , -1. ,  0. ,  1. ],\n",
       "        [-1. , -0. ,  1. ,  0. ],\n",
       "        [-0.6, -0.8,  0.6,  0.8]]))"
      ]
     },
     "execution_count": 44,
     "metadata": {},
     "output_type": "execute_result"
    }
   ],
   "source": [
    "l, t"
   ]
  },
  {
   "cell_type": "code",
   "execution_count": 53,
   "metadata": {},
   "outputs": [
    {
     "data": {
      "text/plain": [
       "array([[ 0.00000000e+00],\n",
       "       [-9.52384854e-07],\n",
       "       [ 0.00000000e+00],\n",
       "       [ 0.00000000e+00],\n",
       "       [ 1.60714601e-06],\n",
       "       [-4.01784975e-06]])"
      ]
     },
     "execution_count": 53,
     "metadata": {},
     "output_type": "execute_result"
    }
   ],
   "source": [
    "u_comp"
   ]
  },
  {
   "cell_type": "code",
   "execution_count": 116,
   "metadata": {},
   "outputs": [],
   "source": [
    "def calcula_deformacao(E,u,l,N,M):\n",
    "    t = calcula_trig(N,M)\n",
    "    u_comp = calcula_u_comp(u, R)\n",
    "    lista_d = np.zeros((len(l), 1))\n",
    "    for i in range(len(l)):\n",
    "        inicio = 2*i\n",
    "        indexes = []\n",
    "        stop = 0\n",
    "        for j in range(4):\n",
    "            if inicio+j >= len(u_comp):\n",
    "                indexes.append(stop)\n",
    "                stop+=1\n",
    "            else:  \n",
    "                indexes.append(inicio+j)      \n",
    "        ue = u_comp[indexes]    \n",
    "        d = (1/l[i])*(t[i]@ue)\n",
    "        lista_d[i] = d[0]\n",
    "    return lista_d\n",
    "\n",
    "def calcula_tensao(E,d):\n",
    "    return E*d\n",
    "\n",
    "\n",
    "d = calcula_deformacao(E,u,l,N,M)\n",
    "tensao = calcula_tensao(E,d)"
   ]
  },
  {
   "cell_type": "code",
   "execution_count": 118,
   "metadata": {},
   "outputs": [
    {
     "name": "stdout",
     "output_type": "stream",
     "text": [
      "[[ 500002.04809063]\n",
      " [1125002.2099185 ]\n",
      " [ 624995.40843763]]\n"
     ]
    }
   ],
   "source": [
    "print(tensao)"
   ]
  },
  {
   "cell_type": "code",
   "execution_count": 149,
   "metadata": {},
   "outputs": [],
   "source": [
    "def calcula_r_apoio(Kg, u_comp,R):\n",
    "    R = list(R[:,0].astype(int))\n",
    "    return ((Kg@u_comp)[R])\n",
    "\n",
    "r_apoio = calcula_r_apoio(Kg,u_comp,R)"
   ]
  },
  {
   "cell_type": "code",
   "execution_count": 150,
   "metadata": {},
   "outputs": [
    {
     "data": {
      "image/png": "[encoded data removed]",
      "text/plain": [
       "<Figure size 432x288 with 1 Axes>"
      ]
     },
     "metadata": {
      "needs_background": "light"
     },
     "output_type": "display_data"
    }
   ],
   "source": [
    "plota(N,Inc)"
   ]
  },
  {
   "cell_type": "code",
   "execution_count": 151,
   "metadata": {},
   "outputs": [],
   "source": [
    "geraSaida(\"saida\", r_apoio, u, d, F, tensao)"
   ]
  },
  {
   "cell_type": "code",
   "execution_count": null,
   "metadata": {},
   "outputs": [],
   "source": []
  }
 ],
 "metadata": {
  "kernelspec": {
   "display_name": "Python 3",
   "language": "python",
   "name": "python3"
  },
  "language_info": {
   "codemirror_mode": {
    "name": "ipython",
    "version": 3
   },
   "file_extension": ".py",
   "mimetype": "text/x-python",
   "name": "python",
   "nbconvert_exporter": "python",
   "pygments_lexer": "ipython3",
   "version": "3.8.3"
  }
 },
 "nbformat": 4,
 "nbformat_minor": 4
}
