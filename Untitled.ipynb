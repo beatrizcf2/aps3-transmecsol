{
 "cells": [
  {
   "cell_type": "markdown",
   "metadata": {},
   "source": [
    "# APS 3 - TRANSMECSOL"
   ]
  },
  {
   "cell_type": "code",
   "execution_count": 1,
   "metadata": {},
   "outputs": [],
   "source": [
    "#imports\n",
    "from funcoesTermosol import *\n",
    "import numpy as np\n",
    "import math"
   ]
  },
  {
   "cell_type": "code",
   "execution_count": 2,
   "metadata": {},
   "outputs": [],
   "source": [
    "#importando os dados\n",
    "[nn,N,nm,Inc,nc,F,nr,R] = importa('entrada.xlsx')"
   ]
  },
  {
   "cell_type": "code",
   "execution_count": 3,
   "metadata": {},
   "outputs": [],
   "source": [
    "#Modulo de elasticidade\n",
    "E = Inc[0,2]\n",
    "\n",
    "#Area secao transversal\n",
    "A = Inc[0,3]\n"
   ]
  },
  {
   "cell_type": "code",
   "execution_count": 4,
   "metadata": {},
   "outputs": [],
   "source": [
    "#Matriz de conectividade\n",
    "# cada coluna é um no\n",
    "def conectividade(Inc):\n",
    "    '''\n",
    "    Recebe excel incidencia e retorna matriz de conectividade \n",
    "    normal e transposta\n",
    "    '''\n",
    "    no_origem = Inc[:,0]\n",
    "    no_destino = Inc[:,1]\n",
    "    C = np.zeros((nm,nn))\n",
    "    for linha in range(len(no_origem)): \n",
    "        if no_origem[linha] < no_destino[linha]:\n",
    "            C[linha, int(no_origem[linha] -1)] = -1 \n",
    "            C[linha, int(no_destino[linha] -1)] = 1\n",
    "        else:\n",
    "            C[linha, int(no_origem[linha] -1)] = 1 \n",
    "            C[linha, int(no_destino[linha] -1)] = -1\n",
    "    return np.transpose(C)"
   ]
  },
  {
   "cell_type": "code",
   "execution_count": 5,
   "metadata": {},
   "outputs": [],
   "source": [
    "def conectividade(Inc):\n",
    "    '''\n",
    "    Recebe excel incidencia e retorna matriz de conectividade \n",
    "    normal e transposta\n",
    "    '''\n",
    "    no_origem = Inc[:,0]\n",
    "    no_destino = Inc[:,1]\n",
    "    C = np.zeros((nm,nn))\n",
    "    for coluna in range(len(no_origem)): \n",
    "        if no_origem[coluna] < no_destino[coluna]:\n",
    "            C[int(no_origem[coluna] -1),coluna] = -1 \n",
    "            C[int(no_destino[coluna] -1),coluna] = 1\n",
    "        else:\n",
    "            C[int(no_origem[coluna] -1),coluna] = 1 \n",
    "            C[int(no_destino[coluna] -1),coluna] = -1\n",
    "    return (C)"
   ]
  },
  {
   "cell_type": "code",
   "execution_count": 6,
   "metadata": {},
   "outputs": [],
   "source": [
    "C = conectividade(Inc)"
   ]
  },
  {
   "cell_type": "code",
   "execution_count": 7,
   "metadata": {},
   "outputs": [
    {
     "data": {
      "text/plain": [
       "array([[-1.,  0., -1.],\n",
       "       [ 1., -1.,  0.],\n",
       "       [ 0.,  1.,  1.]])"
      ]
     },
     "execution_count": 7,
     "metadata": {},
     "output_type": "execute_result"
    }
   ],
   "source": [
    "C"
   ]
  },
  {
   "cell_type": "code",
   "execution_count": 9,
   "metadata": {},
   "outputs": [],
   "source": [
    "def calcula_l(N, C):\n",
    "    '''\n",
    "    Recebe a matriz dos nos e devolve l de cada elemento\n",
    "    '''\n",
    "    x = N[0,:]\n",
    "    y = N[1,:]\n",
    "    l = np.zeros((np.shape(N)[0], 1))\n",
    "    for i in range((np.shape(N)[1])):\n",
    "        xi = x[i]\n",
    "        yi = y[i]\n",
    "        xf = x[i+1]\n",
    "        yf = y[i+1]\n",
    "        l[i] = math.sqrt((xf - xi)**2+(yf - yi)**2)\n",
    "    return l\n"
   ]
  },
  {
   "cell_type": "code",
   "execution_count": 10,
   "metadata": {},
   "outputs": [],
   "source": [
    "def membros(N,C):\n",
    "    '''\n",
    "    membros = N*C\n",
    "    '''\n",
    "    return N@C"
   ]
  },
  {
   "cell_type": "code",
   "execution_count": 11,
   "metadata": {},
   "outputs": [],
   "source": [
    "M = membros(N,C)"
   ]
  },
  {
   "cell_type": "code",
   "execution_count": 12,
   "metadata": {},
   "outputs": [],
   "source": [
    "def calcula_l(M):\n",
    "    l = np.zeros((np.shape(N)[1], 1))\n",
    "    for coluna in range(np.shape(M)[1]):\n",
    "        l[coluna] = np.linalg.norm(M[:,coluna])\n",
    "    return l"
   ]
  },
  {
   "cell_type": "code",
   "execution_count": 13,
   "metadata": {
    "scrolled": false
   },
   "outputs": [],
   "source": [
    "l = calcula_l(M)"
   ]
  },
  {
   "cell_type": "code",
   "execution_count": 56,
   "metadata": {},
   "outputs": [],
   "source": [
    "def calcula_Ke(C, M, E, A,nn):\n",
    "    '''\n",
    "    Funcao que calcula cada K de cada elemento e K global\n",
    "    '''\n",
    "    l = calcula_l(M)\n",
    "    Se = np.zeros((2, 2))\n",
    "    Kg = np.zeros((nn*2,nn*2))\n",
    "    lista_ke = []\n",
    "    linhas = np.shape(M)[0]\n",
    "    colunas = np.shape(M)[1] #igual a n de elementos\n",
    "    for coluna in range(colunas):\n",
    "        me = (M[:,coluna]).reshape(linhas,1)\n",
    "        me_t = np.transpose(me)\n",
    "        Se = ((E*A)/l[coluna])*((me@me_t)/(np.linalg.norm(me))**2)\n",
    "        ce = C[:,coluna].reshape(np.shape(C)[1],1)\n",
    "        ce_t = np.transpose(ce)\n",
    "        Ke = np.kron((ce@ce_t),Se)\n",
    "        lista_ke.append(Ke) \n",
    "        Kg += Ke\n",
    "    return Kg, Ke\n",
    "Kg,Ke = calcula_Ke(C,M,E,A,nn)"
   ]
  },
  {
   "cell_type": "code",
   "execution_count": 23,
   "metadata": {},
   "outputs": [
    {
     "data": {
      "text/plain": [
       "array([[   0.],\n",
       "       [   0.],\n",
       "       [   0.],\n",
       "       [   0.],\n",
       "       [ 150.],\n",
       "       [-100.]])"
      ]
     },
     "execution_count": 23,
     "metadata": {},
     "output_type": "execute_result"
    }
   ],
   "source": [
    "F"
   ]
  },
  {
   "cell_type": "code",
   "execution_count": 20,
   "metadata": {},
   "outputs": [
    {
     "ename": "SyntaxError",
     "evalue": "EOL while scanning string literal (<ipython-input-20-102baf64e3c8>, line 4)",
     "output_type": "error",
     "traceback": [
      "\u001b[0;36m  File \u001b[0;32m\"<ipython-input-20-102baf64e3c8>\"\u001b[0;36m, line \u001b[0;32m4\u001b[0m\n\u001b[0;31m    ''''\u001b[0m\n\u001b[0m        \n^\u001b[0m\n\u001b[0;31mSyntaxError\u001b[0m\u001b[0;31m:\u001b[0m EOL while scanning string literal\n"
     ]
    }
   ],
   "source": [
    "'''\n",
    "elimino os graus de liberdade que estao com restricao \n",
    "ao aplicar as condicoes de contorno\n",
    "''''\n"
   ]
  },
  {
   "cell_type": "code",
   "execution_count": 21,
   "metadata": {},
   "outputs": [],
   "source": [
    "def aplica_cc(Kg,R):\n",
    "    Kg = np.delete(Kg, list(R[:,0].astype(int)), axis=0)"
   ]
  },
  {
   "cell_type": "code",
   "execution_count": null,
   "metadata": {},
   "outputs": [],
   "source": [
    "R"
   ]
  },
  {
   "cell_type": "code",
   "execution_count": 36,
   "metadata": {},
   "outputs": [
    {
     "ename": "TypeError",
     "evalue": "an integer is required (got type list)",
     "output_type": "error",
     "traceback": [
      "\u001b[0;31m---------------------------------------------------------------------------\u001b[0m",
      "\u001b[0;31mTypeError\u001b[0m                                 Traceback (most recent call last)",
      "\u001b[0;32m<ipython-input-36-0c8818b69419>\u001b[0m in \u001b[0;36m<module>\u001b[0;34m\u001b[0m\n\u001b[0;32m----> 1\u001b[0;31m \u001b[0mnp\u001b[0m\u001b[0;34m.\u001b[0m\u001b[0mdelete\u001b[0m\u001b[0;34m(\u001b[0m\u001b[0mKg\u001b[0m\u001b[0;34m,\u001b[0m \u001b[0mlist\u001b[0m\u001b[0;34m(\u001b[0m\u001b[0mR\u001b[0m\u001b[0;34m[\u001b[0m\u001b[0;34m:\u001b[0m\u001b[0;34m,\u001b[0m\u001b[0;36m0\u001b[0m\u001b[0;34m]\u001b[0m\u001b[0;34m.\u001b[0m\u001b[0mastype\u001b[0m\u001b[0;34m(\u001b[0m\u001b[0mint\u001b[0m\u001b[0;34m)\u001b[0m\u001b[0;34m)\u001b[0m\u001b[0;34m,\u001b[0m\u001b[0maxis\u001b[0m\u001b[0;34m=\u001b[0m\u001b[0;34m[\u001b[0m\u001b[0;36m0\u001b[0m\u001b[0;34m,\u001b[0m\u001b[0;36m1\u001b[0m\u001b[0;34m]\u001b[0m\u001b[0;34m)\u001b[0m\u001b[0;34m\u001b[0m\u001b[0;34m\u001b[0m\u001b[0m\n\u001b[0m",
      "\u001b[0;32m<__array_function__ internals>\u001b[0m in \u001b[0;36mdelete\u001b[0;34m(*args, **kwargs)\u001b[0m\n",
      "\u001b[0;32m/opt/anaconda3/lib/python3.8/site-packages/numpy/lib/function_base.py\u001b[0m in \u001b[0;36mdelete\u001b[0;34m(arr, obj, axis)\u001b[0m\n\u001b[1;32m   4302\u001b[0m             \u001b[0;32mreturn\u001b[0m \u001b[0marr\u001b[0m\u001b[0;34m.\u001b[0m\u001b[0mcopy\u001b[0m\u001b[0;34m(\u001b[0m\u001b[0morder\u001b[0m\u001b[0;34m=\u001b[0m\u001b[0marrorder\u001b[0m\u001b[0;34m)\u001b[0m\u001b[0;34m\u001b[0m\u001b[0;34m\u001b[0m\u001b[0m\n\u001b[1;32m   4303\u001b[0m \u001b[0;34m\u001b[0m\u001b[0m\n\u001b[0;32m-> 4304\u001b[0;31m     \u001b[0maxis\u001b[0m \u001b[0;34m=\u001b[0m \u001b[0mnormalize_axis_index\u001b[0m\u001b[0;34m(\u001b[0m\u001b[0maxis\u001b[0m\u001b[0;34m,\u001b[0m \u001b[0mndim\u001b[0m\u001b[0;34m)\u001b[0m\u001b[0;34m\u001b[0m\u001b[0;34m\u001b[0m\u001b[0m\n\u001b[0m\u001b[1;32m   4305\u001b[0m \u001b[0;34m\u001b[0m\u001b[0m\n\u001b[1;32m   4306\u001b[0m     \u001b[0mslobj\u001b[0m \u001b[0;34m=\u001b[0m \u001b[0;34m[\u001b[0m\u001b[0mslice\u001b[0m\u001b[0;34m(\u001b[0m\u001b[0;32mNone\u001b[0m\u001b[0;34m)\u001b[0m\u001b[0;34m]\u001b[0m\u001b[0;34m*\u001b[0m\u001b[0mndim\u001b[0m\u001b[0;34m\u001b[0m\u001b[0;34m\u001b[0m\u001b[0m\n",
      "\u001b[0;31mTypeError\u001b[0m: an integer is required (got type list)"
     ]
    }
   ],
   "source": [
    "Kg = np.delete(Kg, list(R[:,0].astype(int)),axis=0)\n"
   ]
  },
  {
   "cell_type": "code",
   "execution_count": 28,
   "metadata": {},
   "outputs": [
    {
     "data": {
      "text/plain": [
       "[0, 2, 3]"
      ]
     },
     "execution_count": 28,
     "metadata": {},
     "output_type": "execute_result"
    }
   ],
   "source": [
    "list(R[:,0].astype(int))"
   ]
  },
  {
   "cell_type": "code",
   "execution_count": 35,
   "metadata": {},
   "outputs": [
    {
     "data": {
      "text/plain": [
       "array([[ 3.0240e+07,  4.0320e+07,  0.0000e+00,  0.0000e+00, -3.0240e+07,\n",
       "        -4.0320e+07],\n",
       "       [ 4.0320e+07,  1.5876e+08,  0.0000e+00, -1.0500e+08, -4.0320e+07,\n",
       "        -5.3760e+07],\n",
       "       [ 0.0000e+00,  0.0000e+00,  1.4000e+08,  0.0000e+00, -1.4000e+08,\n",
       "         0.0000e+00],\n",
       "       [ 0.0000e+00, -1.0500e+08,  0.0000e+00,  1.0500e+08,  0.0000e+00,\n",
       "         0.0000e+00],\n",
       "       [-3.0240e+07, -4.0320e+07, -1.4000e+08,  0.0000e+00,  1.7024e+08,\n",
       "         4.0320e+07],\n",
       "       [-4.0320e+07, -5.3760e+07,  0.0000e+00,  0.0000e+00,  4.0320e+07,\n",
       "         5.3760e+07]])"
      ]
     },
     "execution_count": 35,
     "metadata": {},
     "output_type": "execute_result"
    }
   ],
   "source": [
    "Kg"
   ]
  },
  {
   "cell_type": "code",
   "execution_count": 57,
   "metadata": {},
   "outputs": [],
   "source": [
    "mask = np.ones(((np.shape(Kg)[0],np.shape(Kg)[0])), dtype=bool)\n",
    "mask[list(R[:,0].astype(int))] = False\n",
    "mask[:,list(R[:,0].astype(int))] = False"
   ]
  },
  {
   "cell_type": "code",
   "execution_count": 58,
   "metadata": {},
   "outputs": [
    {
     "data": {
      "text/plain": [
       "array([[False, False, False, False, False, False],\n",
       "       [False,  True, False, False,  True,  True],\n",
       "       [False, False, False, False, False, False],\n",
       "       [False, False, False, False, False, False],\n",
       "       [False,  True, False, False,  True,  True],\n",
       "       [False,  True, False, False,  True,  True]])"
      ]
     },
     "execution_count": 58,
     "metadata": {},
     "output_type": "execute_result"
    }
   ],
   "source": [
    "mask"
   ]
  },
  {
   "cell_type": "code",
   "execution_count": 60,
   "metadata": {},
   "outputs": [],
   "source": [
    "a = np.ma.masked_array(Kg,mask=mask)"
   ]
  },
  {
   "cell_type": "code",
   "execution_count": 55,
   "metadata": {},
   "outputs": [
    {
     "data": {
      "text/plain": [
       "(9,)"
      ]
     },
     "execution_count": 55,
     "metadata": {},
     "output_type": "execute_result"
    }
   ],
   "source": [
    "Kg.shape"
   ]
  },
  {
   "cell_type": "code",
   "execution_count": 63,
   "metadata": {},
   "outputs": [
    {
     "data": {
      "text/plain": [
       "masked_array(\n",
       "  data=[[30240000.0, 40320000.0, 0.0, 0.0, -30240000.0, -40320000.0],\n",
       "        [40320000.0, --, 0.0, -105000000.0, --, --],\n",
       "        [0.0, 0.0, 140000000.0, 0.0, -140000000.0, 0.0],\n",
       "        [0.0, -105000000.0, 0.0, 105000000.0, 0.0, 0.0],\n",
       "        [-30240000.0, --, -140000000.0, 0.0, --, --],\n",
       "        [-40320000.0, --, 0.0, 0.0, --, --]],\n",
       "  mask=[[False, False, False, False, False, False],\n",
       "        [False,  True, False, False,  True,  True],\n",
       "        [False, False, False, False, False, False],\n",
       "        [False, False, False, False, False, False],\n",
       "        [False,  True, False, False,  True,  True],\n",
       "        [False,  True, False, False,  True,  True]],\n",
       "  fill_value=1e+20)"
      ]
     },
     "execution_count": 63,
     "metadata": {},
     "output_type": "execute_result"
    }
   ],
   "source": [
    "mask = np.ma.masked_where(ar2%7,ar1)\n",
    "masked_array = np.ma.compressed(mask)"
   ]
  },
  {
   "cell_type": "code",
   "execution_count": null,
   "metadata": {},
   "outputs": [],
   "source": []
  }
 ],
 "metadata": {
  "kernelspec": {
   "display_name": "Python 3",
   "language": "python",
   "name": "python3"
  },
  "language_info": {
   "codemirror_mode": {
    "name": "ipython",
    "version": 3
   },
   "file_extension": ".py",
   "mimetype": "text/x-python",
   "name": "python",
   "nbconvert_exporter": "python",
   "pygments_lexer": "ipython3",
   "version": "3.8.3"
  }
 },
 "nbformat": 4,
 "nbformat_minor": 4
}
