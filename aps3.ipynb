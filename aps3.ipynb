{
 "cells": [
  {
   "cell_type": "markdown",
   "metadata": {},
   "source": [
    "# SIMULADOR DE ESTRUTURAS COM TRELIÇAS PLANAS"
   ]
  },
  {
   "cell_type": "markdown",
   "metadata": {},
   "source": [
    "#### Grupo:\n",
    "* Andresa Buchala do Campos Bicudo \n",
    "* Beatriz Cabral Fernandes \n",
    "* Leonardo Duarte Malta de Abreu "
   ]
  },
  {
   "cell_type": "markdown",
   "metadata": {},
   "source": [
    "## Introdução "
   ]
  },
  {
   "cell_type": "markdown",
   "metadata": {},
   "source": [
    "## Estrutura do Código "
   ]
  },
  {
   "cell_type": "markdown",
   "metadata": {},
   "source": [
    "#### Imports das funções importantes"
   ]
  },
  {
   "cell_type": "code",
   "execution_count": 16,
   "metadata": {},
   "outputs": [],
   "source": [
    "# Imports das Funções\n",
    "from funcoesTermosol import *\n",
    "from funcoes_aps3 import *\n",
    "import pandas as pd"
   ]
  },
  {
   "cell_type": "markdown",
   "metadata": {},
   "source": [
    "#### Importando dados do arquivo de entrada "
   ]
  },
  {
   "cell_type": "code",
   "execution_count": 2,
   "metadata": {},
   "outputs": [
    {
     "name": "stdout",
     "output_type": "stream",
     "text": [
      "O módulo de elasticidade das treliças é: 210000000000.0 kPa. A área de seção trnavesal dessas treliças é 0.07068583470577035 m2\n"
     ]
    }
   ],
   "source": [
    "#importando os dados\n",
    "[nn,N,nm,Inc,nc,F,nr,R] = importa('entrada-g5.xlsx')\n",
    "\n",
    "#Modulo de elasticidade\n",
    "E = Inc[0,2]\n",
    "\n",
    "#Area secao transversal\n",
    "A = Inc[0,3]\n",
    "\n",
    "print(f\"\"\"O módulo de elasticidade das treliças é: {E} kPa. A área de seção trnavesal dessas treliças é {A} m2\"\"\")"
   ]
  },
  {
   "cell_type": "markdown",
   "metadata": {},
   "source": [
    "#### Plotando o esquema do arquivo de entrada\n",
    "![Screenshot](fotos/diagrama.png)"
   ]
  },
  {
   "cell_type": "code",
   "execution_count": 3,
   "metadata": {},
   "outputs": [
    {
     "data": {
      "image/png": "[encoded data removed]",
      "text/plain": [
       "<Figure size 432x288 with 1 Axes>"
      ]
     },
     "metadata": {
      "needs_background": "light"
     },
     "output_type": "display_data"
    }
   ],
   "source": [
    "plota(N,Inc)"
   ]
  },
  {
   "cell_type": "markdown",
   "metadata": {},
   "source": [
    "#### Criando matriz de conectividade"
   ]
  },
  {
   "cell_type": "code",
   "execution_count": 4,
   "metadata": {},
   "outputs": [
    {
     "data": {
      "text/plain": [
       "array([[-1.,  0.,  1.,  0.,  0.,  0.,  0.,  0.,  0.,  0.,  0.,  0.,  0.],\n",
       "       [ 1., -1.,  0., -1.,  0.,  0.,  0.,  0.,  0.,  0.,  0.,  0.,  0.],\n",
       "       [ 0.,  1., -1.,  0.,  0.,  1., -1.,  0.,  0.,  0.,  0.,  0.,  0.],\n",
       "       [ 0.,  0.,  0.,  1., -1., -1.,  0., -1., -1.,  0.,  0.,  0.,  0.],\n",
       "       [ 0.,  0.,  0.,  0.,  1.,  0.,  1.,  0.,  0., -1.,  0.,  0.,  0.],\n",
       "       [ 0.,  0.,  0.,  0.,  0.,  0.,  0.,  0.,  1.,  1.,  1.,  0., -1.],\n",
       "       [ 0.,  0.,  0.,  0.,  0.,  0.,  0.,  1.,  0.,  0., -1., -1.,  0.],\n",
       "       [ 0.,  0.,  0.,  0.,  0.,  0.,  0.,  0.,  0.,  0.,  0.,  1.,  1.]])"
      ]
     },
     "execution_count": 4,
     "metadata": {},
     "output_type": "execute_result"
    }
   ],
   "source": [
    "# Calculando matriz de conectividade\n",
    "C = conectividade(Inc, nn, nm)\n",
    "C"
   ]
  },
  {
   "cell_type": "markdown",
   "metadata": {},
   "source": [
    "#### Calculando a Matriz dos Membros "
   ]
  },
  {
   "cell_type": "code",
   "execution_count": 5,
   "metadata": {},
   "outputs": [
    {
     "data": {
      "text/plain": [
       "array([[ 5.,  0., -5.,  5.,  0., -5.,  5.,  5.,  5.,  5.,  0.,  5.,  5.],\n",
       "       [ 5., -5.,  0.,  0., -5., -5.,  0.,  0., -5.,  0., -5., -5.,  0.]])"
      ]
     },
     "execution_count": 5,
     "metadata": {},
     "output_type": "execute_result"
    }
   ],
   "source": [
    "# Calcula matriz dos membros\n",
    "M = membros(N,C)\n",
    "M"
   ]
  },
  {
   "cell_type": "markdown",
   "metadata": {},
   "source": [
    "#### Calculando a Matriz de comprimento para cada elemento"
   ]
  },
  {
   "cell_type": "code",
   "execution_count": 6,
   "metadata": {},
   "outputs": [
    {
     "data": {
      "text/plain": [
       "array([[7.07106781],\n",
       "       [5.        ],\n",
       "       [5.        ],\n",
       "       [5.        ],\n",
       "       [5.        ],\n",
       "       [7.07106781],\n",
       "       [5.        ],\n",
       "       [5.        ],\n",
       "       [7.07106781],\n",
       "       [5.        ],\n",
       "       [5.        ],\n",
       "       [7.07106781],\n",
       "       [5.        ]])"
      ]
     },
     "execution_count": 6,
     "metadata": {},
     "output_type": "execute_result"
    }
   ],
   "source": [
    "# Calcula o comprimento de cada elemento\n",
    "l = calcula_l(M)\n",
    "l"
   ]
  },
  {
   "cell_type": "markdown",
   "metadata": {},
   "source": [
    "#### Calculando a Matriz trigonométrica"
   ]
  },
  {
   "cell_type": "code",
   "execution_count": 7,
   "metadata": {},
   "outputs": [
    {
     "data": {
      "text/plain": [
       "array([[-0.70710678, -0.70710678,  0.70710678,  0.70710678],\n",
       "       [-0.        ,  1.        ,  0.        , -1.        ],\n",
       "       [ 1.        , -0.        , -1.        ,  0.        ],\n",
       "       [-1.        , -0.        ,  1.        ,  0.        ],\n",
       "       [-0.        ,  1.        ,  0.        , -1.        ],\n",
       "       [ 0.70710678,  0.70710678, -0.70710678, -0.70710678],\n",
       "       [-1.        , -0.        ,  1.        ,  0.        ],\n",
       "       [-1.        , -0.        ,  1.        ,  0.        ],\n",
       "       [-0.70710678,  0.70710678,  0.70710678, -0.70710678],\n",
       "       [-1.        , -0.        ,  1.        ,  0.        ],\n",
       "       [-0.        ,  1.        ,  0.        , -1.        ],\n",
       "       [-0.70710678,  0.70710678,  0.70710678, -0.70710678],\n",
       "       [-1.        , -0.        ,  1.        ,  0.        ]])"
      ]
     },
     "execution_count": 7,
     "metadata": {},
     "output_type": "execute_result"
    }
   ],
   "source": [
    "# Calcula matriz dos senos e cossenos\n",
    "trig = calcula_trig(N,M,l)\n",
    "trig"
   ]
  },
  {
   "cell_type": "markdown",
   "metadata": {},
   "source": [
    "#### Calculando Matriz de Rigidez Sem condições de Contorno"
   ]
  },
  {
   "cell_type": "code",
   "execution_count": 8,
   "metadata": {},
   "outputs": [
    {
     "data": {
      "text/plain": [
       "array([[ 4.01843615e+09,  1.04963109e+09, -1.04963109e+09,\n",
       "        -1.04963109e+09, -2.96880506e+09,  0.00000000e+00,\n",
       "         0.00000000e+00,  0.00000000e+00,  0.00000000e+00,\n",
       "         0.00000000e+00,  0.00000000e+00,  0.00000000e+00,\n",
       "         0.00000000e+00,  0.00000000e+00,  0.00000000e+00,\n",
       "         0.00000000e+00],\n",
       "       [ 1.04963109e+09,  1.04963109e+09, -1.04963109e+09,\n",
       "        -1.04963109e+09,  0.00000000e+00,  0.00000000e+00,\n",
       "         0.00000000e+00,  0.00000000e+00,  0.00000000e+00,\n",
       "         0.00000000e+00,  0.00000000e+00,  0.00000000e+00,\n",
       "         0.00000000e+00,  0.00000000e+00,  0.00000000e+00,\n",
       "         0.00000000e+00],\n",
       "       [-1.04963109e+09, -1.04963109e+09,  4.01843615e+09,\n",
       "         1.04963109e+09,  0.00000000e+00,  0.00000000e+00,\n",
       "        -2.96880506e+09,  0.00000000e+00,  0.00000000e+00,\n",
       "         0.00000000e+00,  0.00000000e+00,  0.00000000e+00,\n",
       "         0.00000000e+00,  0.00000000e+00,  0.00000000e+00,\n",
       "         0.00000000e+00],\n",
       "       [-1.04963109e+09, -1.04963109e+09,  1.04963109e+09,\n",
       "         4.01843615e+09,  0.00000000e+00, -2.96880506e+09,\n",
       "         0.00000000e+00,  0.00000000e+00,  0.00000000e+00,\n",
       "         0.00000000e+00,  0.00000000e+00,  0.00000000e+00,\n",
       "         0.00000000e+00,  0.00000000e+00,  0.00000000e+00,\n",
       "         0.00000000e+00],\n",
       "       [-2.96880506e+09,  0.00000000e+00,  0.00000000e+00,\n",
       "         0.00000000e+00,  6.98724121e+09,  1.04963109e+09,\n",
       "        -1.04963109e+09, -1.04963109e+09, -2.96880506e+09,\n",
       "         0.00000000e+00,  0.00000000e+00,  0.00000000e+00,\n",
       "         0.00000000e+00,  0.00000000e+00,  0.00000000e+00,\n",
       "         0.00000000e+00],\n",
       "       [ 0.00000000e+00,  0.00000000e+00,  0.00000000e+00,\n",
       "        -2.96880506e+09,  1.04963109e+09,  4.01843615e+09,\n",
       "        -1.04963109e+09, -1.04963109e+09,  0.00000000e+00,\n",
       "         0.00000000e+00,  0.00000000e+00,  0.00000000e+00,\n",
       "         0.00000000e+00,  0.00000000e+00,  0.00000000e+00,\n",
       "         0.00000000e+00],\n",
       "       [ 0.00000000e+00,  0.00000000e+00, -2.96880506e+09,\n",
       "         0.00000000e+00, -1.04963109e+09, -1.04963109e+09,\n",
       "         8.03687230e+09,  0.00000000e+00,  0.00000000e+00,\n",
       "         0.00000000e+00, -1.04963109e+09,  1.04963109e+09,\n",
       "        -2.96880506e+09,  0.00000000e+00,  0.00000000e+00,\n",
       "         0.00000000e+00],\n",
       "       [ 0.00000000e+00,  0.00000000e+00,  0.00000000e+00,\n",
       "         0.00000000e+00, -1.04963109e+09, -1.04963109e+09,\n",
       "         0.00000000e+00,  5.06806725e+09,  0.00000000e+00,\n",
       "        -2.96880506e+09,  1.04963109e+09, -1.04963109e+09,\n",
       "         0.00000000e+00,  0.00000000e+00,  0.00000000e+00,\n",
       "         0.00000000e+00],\n",
       "       [ 0.00000000e+00,  0.00000000e+00,  0.00000000e+00,\n",
       "         0.00000000e+00, -2.96880506e+09,  0.00000000e+00,\n",
       "         0.00000000e+00,  0.00000000e+00,  5.93761012e+09,\n",
       "         0.00000000e+00, -2.96880506e+09,  0.00000000e+00,\n",
       "         0.00000000e+00,  0.00000000e+00,  0.00000000e+00,\n",
       "         0.00000000e+00],\n",
       "       [ 0.00000000e+00,  0.00000000e+00,  0.00000000e+00,\n",
       "         0.00000000e+00,  0.00000000e+00,  0.00000000e+00,\n",
       "         0.00000000e+00, -2.96880506e+09,  0.00000000e+00,\n",
       "         2.96880506e+09,  0.00000000e+00,  0.00000000e+00,\n",
       "         0.00000000e+00,  0.00000000e+00,  0.00000000e+00,\n",
       "         0.00000000e+00],\n",
       "       [ 0.00000000e+00,  0.00000000e+00,  0.00000000e+00,\n",
       "         0.00000000e+00,  0.00000000e+00,  0.00000000e+00,\n",
       "        -1.04963109e+09,  1.04963109e+09, -2.96880506e+09,\n",
       "         0.00000000e+00,  6.98724121e+09, -1.04963109e+09,\n",
       "         0.00000000e+00,  0.00000000e+00, -2.96880506e+09,\n",
       "         0.00000000e+00],\n",
       "       [ 0.00000000e+00,  0.00000000e+00,  0.00000000e+00,\n",
       "         0.00000000e+00,  0.00000000e+00,  0.00000000e+00,\n",
       "         1.04963109e+09, -1.04963109e+09,  0.00000000e+00,\n",
       "         0.00000000e+00, -1.04963109e+09,  4.01843615e+09,\n",
       "         0.00000000e+00, -2.96880506e+09,  0.00000000e+00,\n",
       "         0.00000000e+00],\n",
       "       [ 0.00000000e+00,  0.00000000e+00,  0.00000000e+00,\n",
       "         0.00000000e+00,  0.00000000e+00,  0.00000000e+00,\n",
       "        -2.96880506e+09,  0.00000000e+00,  0.00000000e+00,\n",
       "         0.00000000e+00,  0.00000000e+00,  0.00000000e+00,\n",
       "         4.01843615e+09, -1.04963109e+09, -1.04963109e+09,\n",
       "         1.04963109e+09],\n",
       "       [ 0.00000000e+00,  0.00000000e+00,  0.00000000e+00,\n",
       "         0.00000000e+00,  0.00000000e+00,  0.00000000e+00,\n",
       "         0.00000000e+00,  0.00000000e+00,  0.00000000e+00,\n",
       "         0.00000000e+00,  0.00000000e+00, -2.96880506e+09,\n",
       "        -1.04963109e+09,  4.01843615e+09,  1.04963109e+09,\n",
       "        -1.04963109e+09],\n",
       "       [ 0.00000000e+00,  0.00000000e+00,  0.00000000e+00,\n",
       "         0.00000000e+00,  0.00000000e+00,  0.00000000e+00,\n",
       "         0.00000000e+00,  0.00000000e+00,  0.00000000e+00,\n",
       "         0.00000000e+00, -2.96880506e+09,  0.00000000e+00,\n",
       "        -1.04963109e+09,  1.04963109e+09,  4.01843615e+09,\n",
       "        -1.04963109e+09],\n",
       "       [ 0.00000000e+00,  0.00000000e+00,  0.00000000e+00,\n",
       "         0.00000000e+00,  0.00000000e+00,  0.00000000e+00,\n",
       "         0.00000000e+00,  0.00000000e+00,  0.00000000e+00,\n",
       "         0.00000000e+00,  0.00000000e+00,  0.00000000e+00,\n",
       "         1.04963109e+09, -1.04963109e+09, -1.04963109e+09,\n",
       "         1.04963109e+09]])"
      ]
     },
     "execution_count": 8,
     "metadata": {},
     "output_type": "execute_result"
    }
   ],
   "source": [
    "#Calcula matriz de rigidez global e de cada elemento\n",
    "Kg,Ke = calcula_Ke(C,M,E,A,nn)\n",
    "Kg"
   ]
  },
  {
   "cell_type": "markdown",
   "metadata": {},
   "source": [
    "#### Criando Matriz de Rigidez com as Condições de Contorno Aplicadas "
   ]
  },
  {
   "cell_type": "code",
   "execution_count": 9,
   "metadata": {},
   "outputs": [
    {
     "data": {
      "text/plain": [
       "array([[ 4.01843615e+09,  1.04963109e+09,  0.00000000e+00,\n",
       "        -2.96880506e+09,  0.00000000e+00,  0.00000000e+00,\n",
       "         0.00000000e+00,  0.00000000e+00,  0.00000000e+00,\n",
       "         0.00000000e+00],\n",
       "       [ 1.04963109e+09,  4.01843615e+09,  0.00000000e+00,\n",
       "         0.00000000e+00,  0.00000000e+00,  0.00000000e+00,\n",
       "         0.00000000e+00,  0.00000000e+00,  0.00000000e+00,\n",
       "         0.00000000e+00],\n",
       "       [ 0.00000000e+00,  0.00000000e+00,  6.98724121e+09,\n",
       "        -1.04963109e+09, -1.04963109e+09, -2.96880506e+09,\n",
       "         0.00000000e+00,  0.00000000e+00,  0.00000000e+00,\n",
       "         0.00000000e+00],\n",
       "       [-2.96880506e+09,  0.00000000e+00, -1.04963109e+09,\n",
       "         8.03687230e+09,  0.00000000e+00,  0.00000000e+00,\n",
       "         0.00000000e+00, -1.04963109e+09, -2.96880506e+09,\n",
       "         0.00000000e+00],\n",
       "       [ 0.00000000e+00,  0.00000000e+00, -1.04963109e+09,\n",
       "         0.00000000e+00,  5.06806725e+09,  0.00000000e+00,\n",
       "        -2.96880506e+09,  1.04963109e+09,  0.00000000e+00,\n",
       "         0.00000000e+00],\n",
       "       [ 0.00000000e+00,  0.00000000e+00, -2.96880506e+09,\n",
       "         0.00000000e+00,  0.00000000e+00,  5.93761012e+09,\n",
       "         0.00000000e+00, -2.96880506e+09,  0.00000000e+00,\n",
       "         0.00000000e+00],\n",
       "       [ 0.00000000e+00,  0.00000000e+00,  0.00000000e+00,\n",
       "         0.00000000e+00, -2.96880506e+09,  0.00000000e+00,\n",
       "         2.96880506e+09,  0.00000000e+00,  0.00000000e+00,\n",
       "         0.00000000e+00],\n",
       "       [ 0.00000000e+00,  0.00000000e+00,  0.00000000e+00,\n",
       "        -1.04963109e+09,  1.04963109e+09, -2.96880506e+09,\n",
       "         0.00000000e+00,  6.98724121e+09,  0.00000000e+00,\n",
       "         0.00000000e+00],\n",
       "       [ 0.00000000e+00,  0.00000000e+00,  0.00000000e+00,\n",
       "        -2.96880506e+09,  0.00000000e+00,  0.00000000e+00,\n",
       "         0.00000000e+00,  0.00000000e+00,  4.01843615e+09,\n",
       "        -1.04963109e+09],\n",
       "       [ 0.00000000e+00,  0.00000000e+00,  0.00000000e+00,\n",
       "         0.00000000e+00,  0.00000000e+00,  0.00000000e+00,\n",
       "         0.00000000e+00,  0.00000000e+00, -1.04963109e+09,\n",
       "         4.01843615e+09]])"
      ]
     },
     "execution_count": 9,
     "metadata": {},
     "output_type": "execute_result"
    }
   ],
   "source": [
    "# Matriz de rigidez global com condicoes de contorno aplicadas\n",
    "Kg_cc = aplica_cc(Kg,R)\n",
    "Kg_cc"
   ]
  },
  {
   "cell_type": "markdown",
   "metadata": {},
   "source": [
    "#### Criando Vetor de Forças com as Confições de Contorno Aplicadas "
   ]
  },
  {
   "cell_type": "code",
   "execution_count": 10,
   "metadata": {},
   "outputs": [
    {
     "data": {
      "text/plain": [
       "array([[     0.],\n",
       "       [-40000.],\n",
       "       [     0.],\n",
       "       [     0.],\n",
       "       [-60000.],\n",
       "       [     0.],\n",
       "       [     0.],\n",
       "       [     0.],\n",
       "       [     0.],\n",
       "       [-40000.]])"
      ]
     },
     "execution_count": 10,
     "metadata": {},
     "output_type": "execute_result"
    }
   ],
   "source": [
    "# Vetor de Forcas com condicoes de contorno\n",
    "F_cc = aplica_cc(F,R)\n",
    "F_cc"
   ]
  },
  {
   "cell_type": "markdown",
   "metadata": {},
   "source": [
    "#### Calculando os Deslocamentos Pelo Método de Jacobi "
   ]
  },
  {
   "cell_type": "code",
   "execution_count": 11,
   "metadata": {},
   "outputs": [
    {
     "name": "stdout",
     "output_type": "stream",
     "text": [
      "CONVERGIU EM i=50 com err = [6.85613535e-06]\n"
     ]
    },
    {
     "name": "stderr",
     "output_type": "stream",
     "text": [
      "C:\\Users\\user\\Documents\\Insper\\5-semestre\\Transmecsol\\aps3-transmecsol\\funcoes_aps3.py:98: RuntimeWarning: invalid value encountered in true_divide\n",
      "  err = max(abs((xnew-x)/xnew))\n"
     ]
    },
    {
     "data": {
      "text/plain": [
       "array([[ 2.79043962e-06],\n",
       "       [-1.06829947e-05],\n",
       "       [-5.05243946e-06],\n",
       "       [ 0.00000000e+00],\n",
       "       [-3.36335837e-05],\n",
       "       [ 0.00000000e+00],\n",
       "       [-3.36333531e-05],\n",
       "       [ 5.05243946e-06],\n",
       "       [-2.79043962e-06],\n",
       "       [-1.06829947e-05]])"
      ]
     },
     "execution_count": 11,
     "metadata": {},
     "output_type": "execute_result"
    }
   ],
   "source": [
    "# Calcula deslocamentos\n",
    "u = calcula_jacobi(Kg_cc, F_cc, 1e-5)\n",
    "u"
   ]
  },
  {
   "cell_type": "markdown",
   "metadata": {},
   "source": [
    "#### Completando a Matriz de deslocamentos "
   ]
  },
  {
   "cell_type": "markdown",
   "metadata": {},
   "source": [
    "![Screenshot](fotos/diagrama.png)"
   ]
  },
  {
   "cell_type": "code",
   "execution_count": 31,
   "metadata": {},
   "outputs": [
    {
     "data": {
      "text/html": [
       "<div>\n",
       "<style scoped>\n",
       "    .dataframe tbody tr th:only-of-type {\n",
       "        vertical-align: middle;\n",
       "    }\n",
       "\n",
       "    .dataframe tbody tr th {\n",
       "        vertical-align: top;\n",
       "    }\n",
       "\n",
       "    .dataframe thead th {\n",
       "        text-align: right;\n",
       "    }\n",
       "</style>\n",
       "<table border=\"1\" class=\"dataframe\">\n",
       "  <thead>\n",
       "    <tr style=\"text-align: right;\">\n",
       "      <th></th>\n",
       "      <th>Nodes</th>\n",
       "      <th>Displacement in X</th>\n",
       "      <th>Displacement in Y</th>\n",
       "    </tr>\n",
       "  </thead>\n",
       "  <tbody>\n",
       "    <tr>\n",
       "      <th>0</th>\n",
       "      <td>1</td>\n",
       "      <td>[0.0]</td>\n",
       "      <td>[0.0]</td>\n",
       "    </tr>\n",
       "    <tr>\n",
       "      <th>1</th>\n",
       "      <td>2</td>\n",
       "      <td>[2.7904396168203672e-06]</td>\n",
       "      <td>[-1.068299471900146e-05]</td>\n",
       "    </tr>\n",
       "    <tr>\n",
       "      <th>2</th>\n",
       "      <td>3</td>\n",
       "      <td>[-5.0524394627626485e-06]</td>\n",
       "      <td>[0.0]</td>\n",
       "    </tr>\n",
       "    <tr>\n",
       "      <th>3</th>\n",
       "      <td>4</td>\n",
       "      <td>[0.0]</td>\n",
       "      <td>[-3.363358370439688e-05]</td>\n",
       "    </tr>\n",
       "    <tr>\n",
       "      <th>4</th>\n",
       "      <td>5</td>\n",
       "      <td>[0.0]</td>\n",
       "      <td>[-3.363335310799454e-05]</td>\n",
       "    </tr>\n",
       "    <tr>\n",
       "      <th>5</th>\n",
       "      <td>6</td>\n",
       "      <td>[5.0524394627626485e-06]</td>\n",
       "      <td>[0.0]</td>\n",
       "    </tr>\n",
       "    <tr>\n",
       "      <th>6</th>\n",
       "      <td>7</td>\n",
       "      <td>[-2.7904396168203672e-06]</td>\n",
       "      <td>[-1.068299471900146e-05]</td>\n",
       "    </tr>\n",
       "    <tr>\n",
       "      <th>7</th>\n",
       "      <td>8</td>\n",
       "      <td>[0.0]</td>\n",
       "      <td>[0.0]</td>\n",
       "    </tr>\n",
       "  </tbody>\n",
       "</table>\n",
       "</div>"
      ],
      "text/plain": [
       "   Nodes          Displacement in X         Displacement in Y\n",
       "0      1                      [0.0]                     [0.0]\n",
       "1      2   [2.7904396168203672e-06]  [-1.068299471900146e-05]\n",
       "2      3  [-5.0524394627626485e-06]                     [0.0]\n",
       "3      4                      [0.0]  [-3.363358370439688e-05]\n",
       "4      5                      [0.0]  [-3.363335310799454e-05]\n",
       "5      6   [5.0524394627626485e-06]                     [0.0]\n",
       "6      7  [-2.7904396168203672e-06]  [-1.068299471900146e-05]\n",
       "7      8                      [0.0]                     [0.0]"
      ]
     },
     "execution_count": 31,
     "metadata": {},
     "output_type": "execute_result"
    }
   ],
   "source": [
    "# Matriz de deslocamentos completa (sem condicoes de contorno)\n",
    "u_comp = calcula_u_comp(u,R)\n",
    "nos = []\n",
    "deslocamentos_x = []\n",
    "deslocamentos_y = []\n",
    "for i in range(len(u_comp)):\n",
    "    if i%2 == 0:\n",
    "        deslocamentos_x.append(u_comp[i])\n",
    "        nos.append(int(i/2+1))\n",
    "    else:\n",
    "        deslocamentos_y.append(u_comp[i])\n",
    "        \n",
    "deslocamentos_nodais = pd.DataFrame()\n",
    "deslocamentos_nodais['Nodes'] = nos\n",
    "deslocamentos_nodais['Displacement in X'] = deslocamentos_x\n",
    "deslocamentos_nodais['Displacement in Y'] = deslocamentos_y\n",
    "\n",
    "deslocamentos_nodais"
   ]
  },
  {
   "cell_type": "markdown",
   "metadata": {},
   "source": [
    "#### Calculando Reações de Apoio as Deformações, Tensões e Forças Internas"
   ]
  },
  {
   "cell_type": "code",
   "execution_count": 35,
   "metadata": {},
   "outputs": [
    {
     "data": {
      "text/html": [
       "<div>\n",
       "<style scoped>\n",
       "    .dataframe tbody tr th:only-of-type {\n",
       "        vertical-align: middle;\n",
       "    }\n",
       "\n",
       "    .dataframe tbody tr th {\n",
       "        vertical-align: top;\n",
       "    }\n",
       "\n",
       "    .dataframe thead th {\n",
       "        text-align: right;\n",
       "    }\n",
       "</style>\n",
       "<table border=\"1\" class=\"dataframe\">\n",
       "  <thead>\n",
       "    <tr style=\"text-align: right;\">\n",
       "      <th></th>\n",
       "      <th>Nodes</th>\n",
       "      <th>Reaction Forces</th>\n",
       "    </tr>\n",
       "  </thead>\n",
       "  <tbody>\n",
       "    <tr>\n",
       "      <th>0</th>\n",
       "      <td>1x</td>\n",
       "      <td>23283.979078</td>\n",
       "    </tr>\n",
       "    <tr>\n",
       "      <th>1</th>\n",
       "      <td>1y</td>\n",
       "      <td>8284.271247</td>\n",
       "    </tr>\n",
       "    <tr>\n",
       "      <th>2</th>\n",
       "      <td>3y</td>\n",
       "      <td>61715.386455</td>\n",
       "    </tr>\n",
       "    <tr>\n",
       "      <th>3</th>\n",
       "      <td>6y</td>\n",
       "      <td>61715.386455</td>\n",
       "    </tr>\n",
       "    <tr>\n",
       "      <th>4</th>\n",
       "      <td>8x</td>\n",
       "      <td>-23283.979078</td>\n",
       "    </tr>\n",
       "    <tr>\n",
       "      <th>5</th>\n",
       "      <td>8y</td>\n",
       "      <td>8284.271247</td>\n",
       "    </tr>\n",
       "  </tbody>\n",
       "</table>\n",
       "</div>"
      ],
      "text/plain": [
       "  Nodes  Reaction Forces\n",
       "0    1x     23283.979078\n",
       "1    1y      8284.271247\n",
       "2    3y     61715.386455\n",
       "3    6y     61715.386455\n",
       "4    8x    -23283.979078\n",
       "5    8y      8284.271247"
      ]
     },
     "execution_count": 35,
     "metadata": {},
     "output_type": "execute_result"
    }
   ],
   "source": [
    "#Calcula as reacoes de apoio\n",
    "r_apoio = calcula_r_apoio(Kg, u_comp, R)\n",
    "r_apoio_df = pd.DataFrame()\n",
    "r_apoio_df['Nodes'] = ['1x', '1y', '3y', '6y', '8x', '8y']\n",
    "r_apoio_df['Reaction Forces'] = r_apoio\n",
    "r_apoio_df"
   ]
  },
  {
   "cell_type": "code",
   "execution_count": 44,
   "metadata": {},
   "outputs": [
    {
     "data": {
      "text/html": [
       "<div>\n",
       "<style scoped>\n",
       "    .dataframe tbody tr th:only-of-type {\n",
       "        vertical-align: middle;\n",
       "    }\n",
       "\n",
       "    .dataframe tbody tr th {\n",
       "        vertical-align: top;\n",
       "    }\n",
       "\n",
       "    .dataframe thead th {\n",
       "        text-align: right;\n",
       "    }\n",
       "</style>\n",
       "<table border=\"1\" class=\"dataframe\">\n",
       "  <thead>\n",
       "    <tr style=\"text-align: right;\">\n",
       "      <th></th>\n",
       "      <th>Element</th>\n",
       "      <th>Tensile Force</th>\n",
       "      <th>Longitudinal Stress</th>\n",
       "    </tr>\n",
       "  </thead>\n",
       "  <tbody>\n",
       "    <tr>\n",
       "      <th>0</th>\n",
       "      <td>1</td>\n",
       "      <td>-11715.728753</td>\n",
       "      <td>-165743.657146</td>\n",
       "    </tr>\n",
       "    <tr>\n",
       "      <th>1</th>\n",
       "      <td>2</td>\n",
       "      <td>-31715.728753</td>\n",
       "      <td>-448685.778198</td>\n",
       "    </tr>\n",
       "    <tr>\n",
       "      <th>2</th>\n",
       "      <td>3</td>\n",
       "      <td>-14999.707830</td>\n",
       "      <td>-212202.457436</td>\n",
       "    </tr>\n",
       "    <tr>\n",
       "      <th>3</th>\n",
       "      <td>4</td>\n",
       "      <td>-8284.271247</td>\n",
       "      <td>-117198.463906</td>\n",
       "    </tr>\n",
       "    <tr>\n",
       "      <th>4</th>\n",
       "      <td>5</td>\n",
       "      <td>-0.684596</td>\n",
       "      <td>-9.685049</td>\n",
       "    </tr>\n",
       "    <tr>\n",
       "      <th>5</th>\n",
       "      <td>6</td>\n",
       "      <td>-42425.922789</td>\n",
       "      <td>-600204.029074</td>\n",
       "    </tr>\n",
       "    <tr>\n",
       "      <th>6</th>\n",
       "      <td>7</td>\n",
       "      <td>14999.707830</td>\n",
       "      <td>212202.457436</td>\n",
       "    </tr>\n",
       "    <tr>\n",
       "      <th>7</th>\n",
       "      <td>8</td>\n",
       "      <td>-8284.271247</td>\n",
       "      <td>-117198.463906</td>\n",
       "    </tr>\n",
       "    <tr>\n",
       "      <th>8</th>\n",
       "      <td>9</td>\n",
       "      <td>-42425.922789</td>\n",
       "      <td>-600204.029074</td>\n",
       "    </tr>\n",
       "    <tr>\n",
       "      <th>9</th>\n",
       "      <td>10</td>\n",
       "      <td>14999.707830</td>\n",
       "      <td>212202.457436</td>\n",
       "    </tr>\n",
       "    <tr>\n",
       "      <th>10</th>\n",
       "      <td>11</td>\n",
       "      <td>-31715.728753</td>\n",
       "      <td>-448685.778198</td>\n",
       "    </tr>\n",
       "    <tr>\n",
       "      <th>11</th>\n",
       "      <td>12</td>\n",
       "      <td>-11715.728753</td>\n",
       "      <td>-165743.657146</td>\n",
       "    </tr>\n",
       "    <tr>\n",
       "      <th>12</th>\n",
       "      <td>13</td>\n",
       "      <td>-14999.707830</td>\n",
       "      <td>-212202.457436</td>\n",
       "    </tr>\n",
       "  </tbody>\n",
       "</table>\n",
       "</div>"
      ],
      "text/plain": [
       "    Element  Tensile Force  Longitudinal Stress\n",
       "0         1  -11715.728753       -165743.657146\n",
       "1         2  -31715.728753       -448685.778198\n",
       "2         3  -14999.707830       -212202.457436\n",
       "3         4   -8284.271247       -117198.463906\n",
       "4         5      -0.684596            -9.685049\n",
       "5         6  -42425.922789       -600204.029074\n",
       "6         7   14999.707830        212202.457436\n",
       "7         8   -8284.271247       -117198.463906\n",
       "8         9  -42425.922789       -600204.029074\n",
       "9        10   14999.707830        212202.457436\n",
       "10       11  -31715.728753       -448685.778198\n",
       "11       12  -11715.728753       -165743.657146\n",
       "12       13  -14999.707830       -212202.457436"
      ]
     },
     "execution_count": 44,
     "metadata": {},
     "output_type": "execute_result"
    }
   ],
   "source": [
    "# Calcula deformacoes\n",
    "d = calcula_deformacao(Inc,u_comp,l,R,trig)\n",
    "#Calcula tensoes\n",
    "t = calcula_tensao(E,d)\n",
    "F_interno = A*t \n",
    "\n",
    "\n",
    "df_informacoes = pd.DataFrame()\n",
    "elementos = []\n",
    "for i in range(nm):\n",
    "    elementos.append(i+1)\n",
    "\n",
    "df_informacoes['Element'] = elementos\n",
    "df_informacoes['Deformation'] = d\n",
    "df_informacoes['Tensile Force'] = F_interno\n",
    "df_informacoes['Longitudinal Stress'] = t\n",
    "df_informacoes"
   ]
  },
  {
   "cell_type": "markdown",
   "metadata": {},
   "source": [
    "#### Plotando gráfico com a deformação do problema (Ampliado em 1000 vezes)"
   ]
  },
  {
   "cell_type": "markdown",
   "metadata": {},
   "source": [
    "#### Gerando Saída txt com informações relevantes"
   ]
  },
  {
   "cell_type": "code",
   "execution_count": 14,
   "metadata": {},
   "outputs": [],
   "source": [
    "geraSaida(\"saida-final\", r_apoio, u_comp, d, F_interno, t)"
   ]
  },
  {
   "cell_type": "markdown",
   "metadata": {},
   "source": [
    "## Conclusão "
   ]
  },
  {
   "cell_type": "markdown",
   "metadata": {},
   "source": [
    "## Referências "
   ]
  },
  {
   "cell_type": "code",
   "execution_count": null,
   "metadata": {},
   "outputs": [],
   "source": []
  }
 ],
 "metadata": {
  "kernelspec": {
   "display_name": "Python 3",
   "language": "python",
   "name": "python3"
  },
  "language_info": {
   "codemirror_mode": {
    "name": "ipython",
    "version": 3
   },
   "file_extension": ".py",
   "mimetype": "text/x-python",
   "name": "python",
   "nbconvert_exporter": "python",
   "pygments_lexer": "ipython3",
   "version": "3.8.5"
  }
 },
 "nbformat": 4,
 "nbformat_minor": 4
}
