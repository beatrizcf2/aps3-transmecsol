{
 "cells": [
  {
   "cell_type": "markdown",
   "metadata": {},
   "source": [
    "# Solucao numeriaca de sistemas de equacoes"
   ]
  },
  {
   "cell_type": "code",
   "execution_count": 4,
   "metadata": {},
   "outputs": [],
   "source": [
    "import numpy as np\n",
    "\n",
    "# Matriz A em [A]{x}={b}\n",
    "a = np.array([[3,-0.1,-0.2],[0.1,7,-0.3],[0.3,-0.2,10]])\n",
    "\n",
    "# vetor {b}\n",
    "b = np.array([[7.85],[-19.3],[71.4]])\n",
    "\n",
    "tol = 1e-10\n",
    "\n",
    "def calcula_jacobi(a,b,tol):\n",
    "    '''\n",
    "    Recebe 2 vetores [A]{x}=[B] \n",
    "    Repetira ate atingir a convergencia desejada.\n",
    "    '''\n",
    "    linhas = np.shape(a)[0]\n",
    "    colunas = np.shape(a)[1]\n",
    "    x = np.zeros((linhas,1))\n",
    "    xnew = np.zeros((linhas,1))\n",
    "    max_i = 100\n",
    "    for i in range(max_i):\n",
    "        for linha in range(linhas):\n",
    "            for coluna in range(colunas):\n",
    "                if linha!=coluna:\n",
    "                    xnew[linha] +=a[linha][coluna]*x[coluna]\n",
    "            xnew[linha] = (b[linha]-xnew[linha])/a[linha][linha] \n",
    "        print(f'x={xnew}')\n",
    "        print()\n",
    "\n",
    "        # Erro\n",
    "        err = max(abs((xnew-x)/xnew))\n",
    "\n",
    "        # Atualizar\n",
    "        x = np.copy(xnew)\n",
    "        xnew.fill(0)\n",
    "        if err<=tol:\n",
    "            break\n",
    "    return x\n",
    "\n",
    "def calcula_gauss(a,b,tol):\n",
    "    linhas = np.shape(a)[0]\n",
    "    colunas = np.shape(a)[1]\n",
    "    x = np.zeros((linhas,1))\n",
    "    xnew = np.zeros((linhas,1))\n",
    "    soma = 0\n",
    "    max_i = 100\n",
    "    \n",
    "    for i in range(max_i):\n",
    "        for linha in range(linhas):\n",
    "            for coluna in range(colunas):\n",
    "                if linha!=coluna:\n",
    "                    soma +=a[linha][coluna]*x[coluna]\n",
    "            \n",
    "            x[linha] = (b[linha]-soma)/a[linha][linha] \n",
    "            #print(f'x[{linha}] = {x[linha]}= ({b[linha]}-{soma})/{a[linha][linha]}')\n",
    "        #print(f'x={xnew}')\n",
    "        #print()\n",
    "\n",
    "        # Erro\n",
    "        err = max(abs((xnew-x)/xnew))\n",
    "        soma = 0\n",
    "        if err<=tol:\n",
    "            break\n",
    "    return x\n",
    "        "
   ]
  },
  {
   "cell_type": "code",
   "execution_count": 5,
   "metadata": {
    "scrolled": true
   },
   "outputs": [
    {
     "name": "stdout",
     "output_type": "stream",
     "text": [
      "x=[[ 2.61666667]\n",
      " [-2.75714286]\n",
      " [ 7.14      ]]\n",
      "\n",
      "x=[[ 3.0007619 ]\n",
      " [-2.48852381]\n",
      " [ 7.00635714]]\n",
      "\n",
      "x=[[ 3.00080635]\n",
      " [-2.49973844]\n",
      " [ 7.00020667]]\n",
      "\n",
      "x=[[ 3.0000225 ]\n",
      " [-2.50000266]\n",
      " [ 6.99998104]]\n",
      "\n",
      "x=[[ 2.99999865]\n",
      " [-2.50000113]\n",
      " [ 6.99999927]]\n",
      "\n",
      "x=[[ 2.99999991]\n",
      " [-2.50000001]\n",
      " [ 7.00000002]]\n",
      "\n",
      "x=[[ 3. ]\n",
      " [-2.5]\n",
      " [ 7. ]]\n",
      "\n",
      "x=[[ 3. ]\n",
      " [-2.5]\n",
      " [ 7. ]]\n",
      "\n",
      "x=[[ 3. ]\n",
      " [-2.5]\n",
      " [ 7. ]]\n",
      "\n"
     ]
    },
    {
     "data": {
      "text/plain": [
       "array([[ 3. ],\n",
       "       [-2.5],\n",
       "       [ 7. ]])"
      ]
     },
     "execution_count": 5,
     "metadata": {},
     "output_type": "execute_result"
    }
   ],
   "source": [
    "calcula_jacobi(a,b,tol)"
   ]
  },
  {
   "cell_type": "code",
   "execution_count": 6,
   "metadata": {},
   "outputs": [
    {
     "ename": "NameError",
     "evalue": "name 'xnew' is not defined",
     "output_type": "error",
     "traceback": [
      "\u001b[0;31m---------------------------------------------------------------------------\u001b[0m",
      "\u001b[0;31mNameError\u001b[0m                                 Traceback (most recent call last)",
      "\u001b[0;32m<ipython-input-6-b9d91410960c>\u001b[0m in \u001b[0;36m<module>\u001b[0;34m\u001b[0m\n\u001b[0;32m----> 1\u001b[0;31m \u001b[0mcalcula_gauss\u001b[0m\u001b[0;34m(\u001b[0m\u001b[0ma\u001b[0m\u001b[0;34m,\u001b[0m\u001b[0mb\u001b[0m\u001b[0;34m,\u001b[0m\u001b[0mtol\u001b[0m\u001b[0;34m)\u001b[0m\u001b[0;34m\u001b[0m\u001b[0;34m\u001b[0m\u001b[0m\n\u001b[0m",
      "\u001b[0;32m<ipython-input-4-37a02fcbb846>\u001b[0m in \u001b[0;36mcalcula_gauss\u001b[0;34m(a, b, tol)\u001b[0m\n\u001b[1;32m     56\u001b[0m \u001b[0;34m\u001b[0m\u001b[0m\n\u001b[1;32m     57\u001b[0m         \u001b[0;31m# Erro\u001b[0m\u001b[0;34m\u001b[0m\u001b[0;34m\u001b[0m\u001b[0;34m\u001b[0m\u001b[0m\n\u001b[0;32m---> 58\u001b[0;31m         \u001b[0merr\u001b[0m \u001b[0;34m=\u001b[0m \u001b[0mmax\u001b[0m\u001b[0;34m(\u001b[0m\u001b[0mabs\u001b[0m\u001b[0;34m(\u001b[0m\u001b[0;34m(\u001b[0m\u001b[0mxnew\u001b[0m\u001b[0;34m-\u001b[0m\u001b[0mx\u001b[0m\u001b[0;34m)\u001b[0m\u001b[0;34m/\u001b[0m\u001b[0mxnew\u001b[0m\u001b[0;34m)\u001b[0m\u001b[0;34m)\u001b[0m\u001b[0;34m\u001b[0m\u001b[0;34m\u001b[0m\u001b[0m\n\u001b[0m\u001b[1;32m     59\u001b[0m         \u001b[0msoma\u001b[0m \u001b[0;34m=\u001b[0m \u001b[0;36m0\u001b[0m\u001b[0;34m\u001b[0m\u001b[0;34m\u001b[0m\u001b[0m\n\u001b[1;32m     60\u001b[0m         \u001b[0;32mif\u001b[0m \u001b[0merr\u001b[0m\u001b[0;34m<=\u001b[0m\u001b[0mtol\u001b[0m\u001b[0;34m:\u001b[0m\u001b[0;34m\u001b[0m\u001b[0;34m\u001b[0m\u001b[0m\n",
      "\u001b[0;31mNameError\u001b[0m: name 'xnew' is not defined"
     ]
    }
   ],
   "source": [
    "calcula_gauss(a,b,tol)"
   ]
  },
  {
   "cell_type": "code",
   "execution_count": null,
   "metadata": {},
   "outputs": [],
   "source": []
  }
 ],
 "metadata": {
  "kernelspec": {
   "display_name": "Python 3",
   "language": "python",
   "name": "python3"
  },
  "language_info": {
   "codemirror_mode": {
    "name": "ipython",
    "version": 3
   },
   "file_extension": ".py",
   "mimetype": "text/x-python",
   "name": "python",
   "nbconvert_exporter": "python",
   "pygments_lexer": "ipython3",
   "version": "3.8.3"
  }
 },
 "nbformat": 4,
 "nbformat_minor": 4
}
