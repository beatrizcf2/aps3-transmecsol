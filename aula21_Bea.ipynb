{
 "cells": [
  {
   "cell_type": "markdown",
   "metadata": {},
   "source": [
    "# Solucao numeriaca de sistemas de equacoes"
   ]
  },
  {
   "cell_type": "code",
   "execution_count": 1,
   "metadata": {},
   "outputs": [],
   "source": [
    "import numpy as np\n",
    "\n",
    "# Matriz A em [A]{x}={b}\n",
    "a = np.array([[3,-0.1,-0.2],[0.1,7,-0.3],[0.3,-0.2,10]])\n",
    "\n",
    "# vetor {b}\n",
    "b = np.array([[7.85],[-19.3],[71.4]])\n",
    "\n",
    "tol = 1e-10\n",
    "\n",
    "def calcula_jacobi(a,b,tol):\n",
    "    '''\n",
    "    Recebe 2 vetores [A]{x}=[B] \n",
    "    Repetira ate atingir a convergencia desejada.\n",
    "    '''\n",
    "    linhas = np.shape(a)[0]\n",
    "    colunas = np.shape(a)[1]\n",
    "    x = np.zeros((linhas,1))\n",
    "    xnew = np.zeros((linhas,1))\n",
    "    max_i = 100\n",
    "    for i in range(max_i):\n",
    "        for linha in range(linhas):\n",
    "            for coluna in range(colunas):\n",
    "                if linha!=coluna:\n",
    "                    xnew[linha] +=a[linha][coluna]*x[coluna]\n",
    "            xnew[linha] = (b[linha]-xnew[linha])/a[linha][linha] \n",
    "        print(f'x={xnew}')\n",
    "        print()\n",
    "\n",
    "        # Erro\n",
    "        err = max(abs((xnew-x)/xnew))\n",
    "\n",
    "        # Atualizar\n",
    "        x = np.copy(xnew)\n",
    "        xnew.fill(0)\n",
    "        if err<=tol:\n",
    "            print(f'CONVERGIU EM i={i} com err = {err}')\n",
    "            break\n",
    "    return x\n",
    "\n",
    "def calcula_gauss(a,b,tol):\n",
    "    linhas = np.shape(a)[0]\n",
    "    colunas = np.shape(a)[1]\n",
    "    x = np.zeros((linhas,1))\n",
    "    xnew = np.zeros((linhas,1))\n",
    "    soma = 0\n",
    "    max_i = 100\n",
    "    \n",
    "    for i in range(max_i):\n",
    "        for linha in range(linhas):\n",
    "            for coluna in range(colunas):\n",
    "                if linha!=coluna:\n",
    "                    soma +=a[linha][coluna]*x[coluna]\n",
    "            \n",
    "            x[linha] = (b[linha]-soma)/a[linha][linha] \n",
    "            \n",
    "            #print(f'x[{linha}] = {x[linha]}= ({b[linha]}-{soma})/{a[linha][linha]}')\n",
    "        print(f'x={x}\\n xnew={xnew}')\n",
    "        print()\n",
    "\n",
    "        # Erro\n",
    "        err = max(abs((x-xnew)/x))\n",
    "        soma = 0\n",
    "        if err<=tol:\n",
    "            print(f'CONVERGIU EM i={i} com err = {err}')\n",
    "            break\n",
    "        #atualiza o anterior\n",
    "        xnew = np.copy(x)\n",
    "    return x\n",
    "        "
   ]
  },
  {
   "cell_type": "code",
   "execution_count": 2,
   "metadata": {
    "scrolled": true
   },
   "outputs": [
    {
     "name": "stdout",
     "output_type": "stream",
     "text": [
      "x=[[ 2.61666667]\n",
      " [-2.75714286]\n",
      " [ 7.14      ]]\n",
      "\n",
      "x=[[ 3.0007619 ]\n",
      " [-2.48852381]\n",
      " [ 7.00635714]]\n",
      "\n",
      "x=[[ 3.00080635]\n",
      " [-2.49973844]\n",
      " [ 7.00020667]]\n",
      "\n",
      "x=[[ 3.0000225 ]\n",
      " [-2.50000266]\n",
      " [ 6.99998104]]\n",
      "\n",
      "x=[[ 2.99999865]\n",
      " [-2.50000113]\n",
      " [ 6.99999927]]\n",
      "\n",
      "x=[[ 2.99999991]\n",
      " [-2.50000001]\n",
      " [ 7.00000002]]\n",
      "\n",
      "x=[[ 3. ]\n",
      " [-2.5]\n",
      " [ 7. ]]\n",
      "\n",
      "x=[[ 3. ]\n",
      " [-2.5]\n",
      " [ 7. ]]\n",
      "\n",
      "x=[[ 3. ]\n",
      " [-2.5]\n",
      " [ 7. ]]\n",
      "\n",
      "CONVERGIU EM i=8 com err = [7.31574801e-11]\n"
     ]
    },
    {
     "data": {
      "text/plain": [
       "array([[ 3. ],\n",
       "       [-2.5],\n",
       "       [ 7. ]])"
      ]
     },
     "execution_count": 2,
     "metadata": {},
     "output_type": "execute_result"
    }
   ],
   "source": [
    "calcula_jacobi(a,b,tol)"
   ]
  },
  {
   "cell_type": "code",
   "execution_count": 3,
   "metadata": {},
   "outputs": [
    {
     "name": "stdout",
     "output_type": "stream",
     "text": [
      "x=[[ 2.61666667]\n",
      " [-2.79452381]\n",
      " [ 6.97944286]]\n",
      " xnew=[[0.]\n",
      " [0.]\n",
      " [0.]]\n",
      "\n",
      "x=[[ 2.98881206]\n",
      " [-2.34123031]\n",
      " [ 7.29464982]]\n",
      " xnew=[[ 2.61666667]\n",
      " [-2.79452381]\n",
      " [ 6.97944286]]\n",
      "\n",
      "x=[[ 3.02493564]\n",
      " [-2.31275596]\n",
      " [ 7.31406764]]\n",
      " xnew=[[ 2.98881206]\n",
      " [-2.34123031]\n",
      " [ 7.29464982]]\n",
      "\n",
      "x=[[ 3.02717931]\n",
      " [-2.31099424]\n",
      " [ 7.31526877]]\n",
      " xnew=[[ 3.02493564]\n",
      " [-2.31275596]\n",
      " [ 7.31406764]]\n",
      "\n",
      "x=[[ 3.02731811]\n",
      " [-2.31088526]\n",
      " [ 7.31534307]]\n",
      " xnew=[[ 3.02717931]\n",
      " [-2.31099424]\n",
      " [ 7.31526877]]\n",
      "\n",
      "x=[[ 3.0273267 ]\n",
      " [-2.31087852]\n",
      " [ 7.31534766]]\n",
      " xnew=[[ 3.02731811]\n",
      " [-2.31088526]\n",
      " [ 7.31534307]]\n",
      "\n",
      "x=[[ 3.02732723]\n",
      " [-2.31087811]\n",
      " [ 7.31534795]]\n",
      " xnew=[[ 3.0273267 ]\n",
      " [-2.31087852]\n",
      " [ 7.31534766]]\n",
      "\n",
      "x=[[ 3.02732726]\n",
      " [-2.31087808]\n",
      " [ 7.31534796]]\n",
      " xnew=[[ 3.02732723]\n",
      " [-2.31087811]\n",
      " [ 7.31534795]]\n",
      "\n",
      "x=[[ 3.02732726]\n",
      " [-2.31087808]\n",
      " [ 7.31534797]]\n",
      " xnew=[[ 3.02732726]\n",
      " [-2.31087808]\n",
      " [ 7.31534796]]\n",
      "\n",
      "x=[[ 3.02732726]\n",
      " [-2.31087808]\n",
      " [ 7.31534797]]\n",
      " xnew=[[ 3.02732726]\n",
      " [-2.31087808]\n",
      " [ 7.31534797]]\n",
      "\n",
      "CONVERGIU EM i=9 com err = [4.27168715e-11]\n"
     ]
    },
    {
     "data": {
      "text/plain": [
       "array([[ 3.02732726],\n",
       "       [-2.31087808],\n",
       "       [ 7.31534797]])"
      ]
     },
     "execution_count": 3,
     "metadata": {},
     "output_type": "execute_result"
    }
   ],
   "source": [
    "calcula_gauss(a,b,tol)"
   ]
  },
  {
   "cell_type": "code",
   "execution_count": null,
   "metadata": {},
   "outputs": [],
   "source": []
  },
  {
   "cell_type": "code",
   "execution_count": null,
   "metadata": {},
   "outputs": [],
   "source": []
  }
 ],
 "metadata": {
  "kernelspec": {
   "display_name": "Python 3",
   "language": "python",
   "name": "python3"
  },
  "language_info": {
   "codemirror_mode": {
    "name": "ipython",
    "version": 3
   },
   "file_extension": ".py",
   "mimetype": "text/x-python",
   "name": "python",
   "nbconvert_exporter": "python",
   "pygments_lexer": "ipython3",
   "version": "3.8.3"
  }
 },
 "nbformat": 4,
 "nbformat_minor": 4
}
